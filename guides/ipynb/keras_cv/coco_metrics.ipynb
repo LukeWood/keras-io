{
 "cells": [
  {
   "cell_type": "markdown",
   "metadata": {
    "colab_type": "text"
   },
   "source": [
    "# Using KerasCV COCO Metrics\n",
    "\n",
    "**Author:** [lukewood](https://lukewood.xyz)<br>\n",
    "**Date created:** 2022/04/13<br>\n",
    "**Last modified:** 2022/04/13<br>\n",
    "**Description:** Use KerasCV COCO metrics to evaluate object detection models."
   ]
  },
  {
   "cell_type": "markdown",
   "metadata": {
    "colab_type": "text"
   },
   "source": [
    "## Overview\n",
    "\n",
    "With KerasCV's COCO metrics implementation, you can easily evaluate your object\n",
    "detection model's performance all from within the TensorFlow graph. This guide\n",
    "shows you how to use KerasCV's COCO metrics and integrate it into your own model\n",
    "evaluation pipeline.  Historically, users have evaluated COCO metrics as a post training\n",
    "step.  KerasCV offers an in graph implementation of COCO metrics, enabling users to\n",
    "evaluate COCO metrics *during* training!\n",
    "\n",
    "Let's get started using KerasCV's COCO metrics."
   ]
  },
  {
   "cell_type": "markdown",
   "metadata": {
    "colab_type": "text"
   },
   "source": [
    "## Input format\n",
    "\n",
    "KerasCV COCO metrics require a specific input format.\n",
    "\n",
    "The metrics expect `y_true` and be a `float` Tensor with the shape `[batch,\n",
    "num_images, num_boxes, 5]`. The final axis stores the locational and class\n",
    "information for each specific bounding box. The dimensions in order are: `[left,\n",
    "top, right, bottom, class]`.\n",
    "\n",
    "The metrics expect `y_pred` and be a `float` Tensor with the shape `[batch,\n",
    "num_images, num_boxes, 56]`. The final axis stores the locational and class\n",
    "information for each specific bounding box. The dimensions in order are: `[left,\n",
    "top, right, bottom, class, confidence]`.\n",
    "\n",
    "Due to the fact that each image may have a different number of bounding boxes,\n",
    "the `num_boxes` dimension may actually have a mismatching shape between images.\n",
    "KerasCV works around this by allowing you to either pass a `RaggedTensor` as an\n",
    "input to the KerasCV COCO metrics, or padding unused bounding boxes with `-1`.\n",
    "\n",
    "Utility functions to manipulate bounding boxes, transform between formats, and\n",
    "pad bounding box Tensors with `-1s` are available at\n",
    "[`keras_cv.utils.bounding_box`](https://github.com/keras-team/keras-cv/blob/master/keras_cv/utils/bounding_box.py)."
   ]
  },
  {
   "cell_type": "markdown",
   "metadata": {
    "colab_type": "text"
   },
   "source": [
    "## Independent metric use\n",
    "\n",
    "The usage first pattern for KerasCV COCO metrics is to manually call\n",
    "`update_state()` and `result()` methods. This pattern is recommended for users\n",
    "who want finer grained control of their metric evaluation, or want to use a\n",
    "different format for `y_pred` in their model.\n",
    "\n",
    "Let's run through a quick code example."
   ]
  },
  {
   "cell_type": "markdown",
   "metadata": {
    "colab_type": "text"
   },
   "source": [
    "1.) First, we must construct our metric:"
   ]
  },
  {
   "cell_type": "code",
   "execution_count": 0,
   "metadata": {
    "colab_type": "code"
   },
   "outputs": [],
   "source": [
    "import keras_cv\n",
    "\n",
    "# import all modules we will need in this example\n",
    "import tensorflow as tf\n",
    "from tensorflow import keras\n",
    "\n",
    "# only consider boxes with areas less than a 32x32 square.\n",
    "metric = keras_cv.metrics.COCORecall(class_ids=[1, 2, 3], area_range=(0, 32**2))"
   ]
  },
  {
   "cell_type": "markdown",
   "metadata": {
    "colab_type": "text"
   },
   "source": [
    "2.) Create Some Bounding Boxes:"
   ]
  },
  {
   "cell_type": "code",
   "execution_count": 0,
   "metadata": {
    "colab_type": "code"
   },
   "outputs": [],
   "source": [
    "y_true = tf.ragged.stack(\n",
    "    [\n",
    "        # image 1\n",
    "        tf.constant([[0, 0, 10, 10, 1], [11, 12, 30, 30, 2]], tf.float32),\n",
    "        # image 2\n",
    "        tf.constant([[0, 0, 10, 10, 1]], tf.float32),\n",
    "    ]\n",
    ")\n",
    "y_pred = tf.ragged.stack(\n",
    "    [\n",
    "        # predictions for image 1\n",
    "        tf.constant([[5, 5, 10, 10, 1, 0.9]], tf.float32),\n",
    "        # predictions for image 2\n",
    "        tf.constant([[0, 0, 10, 10, 1, 1.0], [5, 5, 10, 10, 1, 0.9]], tf.float32),\n",
    "    ]\n",
    ")"
   ]
  },
  {
   "cell_type": "markdown",
   "metadata": {
    "colab_type": "text"
   },
   "source": [
    "3.) Update metric state:"
   ]
  },
  {
   "cell_type": "code",
   "execution_count": 0,
   "metadata": {
    "colab_type": "code"
   },
   "outputs": [],
   "source": [
    "metric.update_state(y_true, y_pred)"
   ]
  },
  {
   "cell_type": "markdown",
   "metadata": {
    "colab_type": "text"
   },
   "source": [
    "4.) Evaluate the result:"
   ]
  },
  {
   "cell_type": "code",
   "execution_count": 0,
   "metadata": {
    "colab_type": "code"
   },
   "outputs": [],
   "source": [
    "metric.result()"
   ]
  },
  {
   "cell_type": "markdown",
   "metadata": {
    "colab_type": "text"
   },
   "source": [
    "Evaluating COCORecall for your object detection model is as simple as that!"
   ]
  },
  {
   "cell_type": "markdown",
   "metadata": {
    "colab_type": "text"
   },
   "source": [
    "## Metric use in a model\n",
    "\n",
    "You can also leverage COCORecall in your model's training loop.  Let's walk through this\n",
    "process.\n",
    "\n",
    "1.) Construct your the metric and a dummy model"
   ]
  },
  {
   "cell_type": "code",
   "execution_count": 0,
   "metadata": {
    "colab_type": "code"
   },
   "outputs": [],
   "source": [
    "i = keras.layers.Input((None, None, 6))\n",
    "model = keras.Model(i, i)"
   ]
  },
  {
   "cell_type": "markdown",
   "metadata": {
    "colab_type": "text"
   },
   "source": [
    "2.) Create some fake bounding boxes:"
   ]
  },
  {
   "cell_type": "code",
   "execution_count": 0,
   "metadata": {
    "colab_type": "code"
   },
   "outputs": [],
   "source": [
    "y_true = tf.constant([[[0, 0, 10, 10, 1], [5, 5, 10, 10, 1]]], tf.float32)\n",
    "y_pred = tf.constant([[[0, 0, 10, 10, 1, 1.0], [5, 5, 10, 10, 1, 0.9]]], tf.float32)"
   ]
  },
  {
   "cell_type": "markdown",
   "metadata": {
    "colab_type": "text"
   },
   "source": [
    "3.) Create the metric and compile the model"
   ]
  },
  {
   "cell_type": "code",
   "execution_count": 0,
   "metadata": {
    "colab_type": "code"
   },
   "outputs": [],
   "source": [
    "recall = keras_cv.metrics.COCORecall(\n",
    "    max_detections=100, class_ids=[1], area_range=(0, 64**2), name=\"coco_recall\"\n",
    ")\n",
    "model.compile(metrics=[recall])"
   ]
  },
  {
   "cell_type": "markdown",
   "metadata": {
    "colab_type": "text"
   },
   "source": [
    "4.) Use `model.evaluate()` to evaluate the metric"
   ]
  },
  {
   "cell_type": "code",
   "execution_count": 0,
   "metadata": {
    "colab_type": "code"
   },
   "outputs": [],
   "source": [
    "model.evaluate(y_pred, y_true, return_dict=True)"
   ]
  },
  {
   "cell_type": "markdown",
   "metadata": {
    "colab_type": "text"
   },
   "source": [
    "Looks great!  That's all it takes to use KerasCV's COCO metrics to evaluate object\n",
    "detection models."
   ]
  },
  {
   "cell_type": "markdown",
   "metadata": {
    "colab_type": "text"
   },
   "source": [
    "## Supported constructor parameters\n",
    "\n",
    "KerasCV COCO Metrics are sufficiently parameterized to support all of the\n",
    "permutations evaluated in the original COCO challenge, all metrics evaluated in\n",
    "the accompanying `pycocotools` library, and more!\n",
    "\n",
    "### COCORecall\n",
    "\n",
    "The COCORecall constructor supports the following parameters\n",
    "\n",
    "| Name            | Usage                                                      |\n",
    "| --------------- | ---------------------------------------------------------- |\n",
    "| iou\\_thresholds | iou\\_thresholds expects an iterable. This value is used as |\n",
    ":                 : a cutoff to determine the minimum intersection of unions   :\n",
    ":                 : required for a classification sample to be considered a    :\n",
    ":                 : true positive. If an iterable is passed, the result is the :\n",
    ":                 : average across IoU values passed in the                    :\n",
    ":                 : iterable.<br>Defaults to `range(0.5, 0.95, incr=0.05)`     :\n",
    "| area\\_range     | area\\_range specifies a range over which to evaluate the   |\n",
    ":                 : metric. Only ground truth objects within the area\\_range   :\n",
    ":                 : are considered in the scoring.<br>Defaults to\\: `\\[0,      :\n",
    ":                 : 1e5\\*\\*2\\]`                                                :\n",
    "| max\\_detections | max\\_detections is a value specifying the max number of    |\n",
    ":                 : detections a model is allowed to make.<br>Defaults to\\:    :\n",
    ":                 : `100`                                                      :\n",
    "| class\\_ids      | When class\\_ids is not None, the metric will only consider |\n",
    ":                 : boxes of the matching class label. This is useful when a   :\n",
    ":                 : specific class is considered high priority. An example of  :\n",
    ":                 : this would be providing the human and animal class indices :\n",
    ":                 : in the case of self driving cars.<br>To evaluate all       :\n",
    ":                 : categories, users will pass `range(0, num\\_classes)`.      :\n",
    "\n",
    "### COCOMeanAveragePrecision\n",
    "\n",
    "The COCOMeanAveragePrecision constructor supports the following parameters\n",
    "\n",
    "| Name               | Usage                                                   |\n",
    "| ------------------ | ------------------------------------------------------- |\n",
    "| \\*\\*kwargs         | Passed to COCOBase.super()                              |\n",
    "| recall\\_thresholds | recall\\_thresholds is a list containing the             |\n",
    ":                    : recall\\_thresholds over which to consider in the        :\n",
    ":                    : computation of MeanAveragePrecision.                    :\n",
    "| iou\\_thresholds    | iou\\_thresholds expects an iterable. This value is used |\n",
    ":                    : as a cutoff to determine the minimum intersection of    :\n",
    ":                    : unions required for a classification sample to be       :\n",
    ":                    : considered a true positive. If an iterable is passed,   :\n",
    ":                    : the result is the average across IoU values passed in   :\n",
    ":                    : the iterable.<br>Defaults to `range(0.5, 0.95,          :\n",
    ":                    : incr=0.05)`                                             :\n",
    "| area\\_range        | area\\_range specifies a range over which to evaluate    |\n",
    ":                    : the metric. Only ground truth objects within the        :\n",
    ":                    : area\\_range are considered in the                       :\n",
    ":                    : scoring.<br><br>Defaults to\\: `\\[0, 1e5\\*\\*2\\]`         :\n",
    "| max\\_detections    | max\\_detections is a value specifying the max number of |\n",
    ":                    : detections a model is allowed to make.<br><br>Defaults  :\n",
    ":                    : to\\: `100`                                              :\n",
    "| class\\_ids         | When class\\_ids is not None, the metric will only       |\n",
    ":                    : consider boxes of the matching class label. This is     :\n",
    ":                    : useful when a specific class is considered high         :\n",
    ":                    : priority. An example of this would be providing the     :\n",
    ":                    : human and animal class indices in the case of self      :\n",
    ":                    : driving cars.<br>To evaluate all categories, users will :\n",
    ":                    : pass `range(0, num\\_classes)`.                          :"
   ]
  },
  {
   "cell_type": "markdown",
   "metadata": {
    "colab_type": "text"
   },
   "source": [
    "## Conclusion & next steps\n",
    "KerasCV makes it easier than ever before to evaluate a Keras object detection model.\n",
    "Historically, users had to perform post training evaluation.  With KerasCV, you can\n",
    "perform train time evaluation to see how these metrics evolve over time!\n",
    "\n",
    "As an additional exercise for readers, you can:\n",
    "\n",
    "- Configure `iou_thresholds`, `max_detections`, and `area_range` to reproduce the suite\n",
    "of metrics evaluted in `pycocotools`\n",
    "- Integrate COCO metrics into a RetinaNet using the\n",
    "[keras.io RetinaNet example](https://keras.io/examples/vision/retinanet/)"
   ]
  }
 ],
 "metadata": {
  "colab": {
   "collapsed_sections": [],
   "name": "coco_metrics",
   "private_outputs": false,
   "provenance": [],
   "toc_visible": true
  },
  "kernelspec": {
   "display_name": "Python 3",
   "language": "python",
   "name": "python3"
  },
  "language_info": {
   "codemirror_mode": {
    "name": "ipython",
    "version": 3
   },
   "file_extension": ".py",
   "mimetype": "text/x-python",
   "name": "python",
   "nbconvert_exporter": "python",
   "pygments_lexer": "ipython3",
   "version": "3.7.0"
  }
 },
 "nbformat": 4,
 "nbformat_minor": 0
}